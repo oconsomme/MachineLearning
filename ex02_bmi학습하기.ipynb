{
 "cells": [
  {
   "cell_type": "markdown",
   "id": "13a5225d",
   "metadata": {},
   "source": [
    "### 목표\n",
    " - 문제정의\n",
    "   - 500명의 키와 몸무게, 비만도 라벨을 이용하여 비만을 판단하는 모델을 만들어보자.\n",
    "   - 머신러닝 과정을 이해해보자.\n"
   ]
  },
  {
   "cell_type": "code",
   "execution_count": 1,
   "id": "9c6d873b",
   "metadata": {},
   "outputs": [],
   "source": [
    "# 판다스, 시각화\n",
    "import pandas as pd\n",
    "import matplotlib.pyplot as plt\n",
    "\n",
    "# 모델 관련한 불러오는 코드(2줄)\n",
    "# knn 모델 불러오기, 측정 도구 불러오기\n",
    "from sklearn.neighbors import KNeighborsClassifier\n",
    "from sklearn.metrics import accuracy_score"
   ]
  },
  {
   "cell_type": "markdown",
   "id": "e39df1c1",
   "metadata": {},
   "source": [
    "### 데이터 준비(수집)"
   ]
  },
  {
   "cell_type": "code",
   "execution_count": 2,
   "id": "21cfc6dd",
   "metadata": {},
   "outputs": [
    {
     "data": {
      "text/html": [
       "<div>\n",
       "<style scoped>\n",
       "    .dataframe tbody tr th:only-of-type {\n",
       "        vertical-align: middle;\n",
       "    }\n",
       "\n",
       "    .dataframe tbody tr th {\n",
       "        vertical-align: top;\n",
       "    }\n",
       "\n",
       "    .dataframe thead th {\n",
       "        text-align: right;\n",
       "    }\n",
       "</style>\n",
       "<table border=\"1\" class=\"dataframe\">\n",
       "  <thead>\n",
       "    <tr style=\"text-align: right;\">\n",
       "      <th></th>\n",
       "      <th>Gender</th>\n",
       "      <th>Height</th>\n",
       "      <th>Weight</th>\n",
       "    </tr>\n",
       "    <tr>\n",
       "      <th>Label</th>\n",
       "      <th></th>\n",
       "      <th></th>\n",
       "      <th></th>\n",
       "    </tr>\n",
       "  </thead>\n",
       "  <tbody>\n",
       "    <tr>\n",
       "      <th>Obesity</th>\n",
       "      <td>Male</td>\n",
       "      <td>174</td>\n",
       "      <td>96</td>\n",
       "    </tr>\n",
       "    <tr>\n",
       "      <th>Normal</th>\n",
       "      <td>Male</td>\n",
       "      <td>189</td>\n",
       "      <td>87</td>\n",
       "    </tr>\n",
       "    <tr>\n",
       "      <th>Obesity</th>\n",
       "      <td>Female</td>\n",
       "      <td>185</td>\n",
       "      <td>110</td>\n",
       "    </tr>\n",
       "    <tr>\n",
       "      <th>Overweight</th>\n",
       "      <td>Female</td>\n",
       "      <td>195</td>\n",
       "      <td>104</td>\n",
       "    </tr>\n",
       "    <tr>\n",
       "      <th>Overweight</th>\n",
       "      <td>Male</td>\n",
       "      <td>149</td>\n",
       "      <td>61</td>\n",
       "    </tr>\n",
       "    <tr>\n",
       "      <th>...</th>\n",
       "      <td>...</td>\n",
       "      <td>...</td>\n",
       "      <td>...</td>\n",
       "    </tr>\n",
       "    <tr>\n",
       "      <th>Extreme Obesity</th>\n",
       "      <td>Female</td>\n",
       "      <td>150</td>\n",
       "      <td>153</td>\n",
       "    </tr>\n",
       "    <tr>\n",
       "      <th>Obesity</th>\n",
       "      <td>Female</td>\n",
       "      <td>184</td>\n",
       "      <td>121</td>\n",
       "    </tr>\n",
       "    <tr>\n",
       "      <th>Extreme Obesity</th>\n",
       "      <td>Female</td>\n",
       "      <td>141</td>\n",
       "      <td>136</td>\n",
       "    </tr>\n",
       "    <tr>\n",
       "      <th>Extreme Obesity</th>\n",
       "      <td>Male</td>\n",
       "      <td>150</td>\n",
       "      <td>95</td>\n",
       "    </tr>\n",
       "    <tr>\n",
       "      <th>Extreme Obesity</th>\n",
       "      <td>Male</td>\n",
       "      <td>173</td>\n",
       "      <td>131</td>\n",
       "    </tr>\n",
       "  </tbody>\n",
       "</table>\n",
       "<p>500 rows × 3 columns</p>\n",
       "</div>"
      ],
      "text/plain": [
       "                 Gender  Height  Weight\n",
       "Label                                  \n",
       "Obesity            Male     174      96\n",
       "Normal             Male     189      87\n",
       "Obesity          Female     185     110\n",
       "Overweight       Female     195     104\n",
       "Overweight         Male     149      61\n",
       "...                 ...     ...     ...\n",
       "Extreme Obesity  Female     150     153\n",
       "Obesity          Female     184     121\n",
       "Extreme Obesity  Female     141     136\n",
       "Extreme Obesity    Male     150      95\n",
       "Extreme Obesity    Male     173     131\n",
       "\n",
       "[500 rows x 3 columns]"
      ]
     },
     "execution_count": 2,
     "metadata": {},
     "output_type": "execute_result"
    }
   ],
   "source": [
    "# pd.read_csv()\n",
    "# data 변수에 담아주기\n",
    "# Label(답 데이터) 컬럼을 인덱스로 설정해서 불러오기\n",
    "data = pd.read_csv('./data/bmi_500.csv',index_col='Label')\n",
    "data"
   ]
  },
  {
   "cell_type": "code",
   "execution_count": 3,
   "id": "a0fe38bf",
   "metadata": {},
   "outputs": [
    {
     "name": "stdout",
     "output_type": "stream",
     "text": [
      "<class 'pandas.core.frame.DataFrame'>\n",
      "Index: 500 entries, Obesity to Extreme Obesity\n",
      "Data columns (total 3 columns):\n",
      " #   Column  Non-Null Count  Dtype \n",
      "---  ------  --------------  ----- \n",
      " 0   Gender  500 non-null    object\n",
      " 1   Height  500 non-null    int64 \n",
      " 2   Weight  500 non-null    int64 \n",
      "dtypes: int64(2), object(1)\n",
      "memory usage: 15.6+ KB\n"
     ]
    }
   ],
   "source": [
    "# 데이터 정보 확인해보기\n",
    "# 전체 행, 컬럼 정보, 결측치 여부 확인\n",
    "data.info()\n",
    "# shape : (500,3)\n",
    "# 성별 컬럼, 키, 몸무게 모두 결측치 X\n",
    "# 데이터 확인 필수 ! -> 머신러닝 모델은 문자를 이해할 수 없음\n",
    "# 이번 실습에서는 Height, Weight 2개만 활용"
   ]
  },
  {
   "cell_type": "markdown",
   "id": "a7ffda37",
   "metadata": {},
   "source": [
    "### 데이터 전처리 : pass"
   ]
  },
  {
   "cell_type": "markdown",
   "id": "df70f657",
   "metadata": {},
   "source": [
    "### 데이터 분석(탐색)\n",
    " - 기술 통계 확인 : 평균, 최소, 최대, 중앙(오름차순으로 줄 세웠을 때 정중앙에 있는 값)\n",
    " - 시각화를 통해 데이터의 분포 확인해보기"
   ]
  },
  {
   "cell_type": "code",
   "execution_count": 4,
   "id": "b61b56b1",
   "metadata": {},
   "outputs": [
    {
     "data": {
      "text/html": [
       "<div>\n",
       "<style scoped>\n",
       "    .dataframe tbody tr th:only-of-type {\n",
       "        vertical-align: middle;\n",
       "    }\n",
       "\n",
       "    .dataframe tbody tr th {\n",
       "        vertical-align: top;\n",
       "    }\n",
       "\n",
       "    .dataframe thead th {\n",
       "        text-align: right;\n",
       "    }\n",
       "</style>\n",
       "<table border=\"1\" class=\"dataframe\">\n",
       "  <thead>\n",
       "    <tr style=\"text-align: right;\">\n",
       "      <th></th>\n",
       "      <th>Height</th>\n",
       "      <th>Weight</th>\n",
       "    </tr>\n",
       "  </thead>\n",
       "  <tbody>\n",
       "    <tr>\n",
       "      <th>count</th>\n",
       "      <td>500.000000</td>\n",
       "      <td>500.000000</td>\n",
       "    </tr>\n",
       "    <tr>\n",
       "      <th>mean</th>\n",
       "      <td>169.944000</td>\n",
       "      <td>106.000000</td>\n",
       "    </tr>\n",
       "    <tr>\n",
       "      <th>std</th>\n",
       "      <td>16.375261</td>\n",
       "      <td>32.382607</td>\n",
       "    </tr>\n",
       "    <tr>\n",
       "      <th>min</th>\n",
       "      <td>140.000000</td>\n",
       "      <td>50.000000</td>\n",
       "    </tr>\n",
       "    <tr>\n",
       "      <th>25%</th>\n",
       "      <td>156.000000</td>\n",
       "      <td>80.000000</td>\n",
       "    </tr>\n",
       "    <tr>\n",
       "      <th>50%</th>\n",
       "      <td>170.500000</td>\n",
       "      <td>106.000000</td>\n",
       "    </tr>\n",
       "    <tr>\n",
       "      <th>75%</th>\n",
       "      <td>184.000000</td>\n",
       "      <td>136.000000</td>\n",
       "    </tr>\n",
       "    <tr>\n",
       "      <th>max</th>\n",
       "      <td>199.000000</td>\n",
       "      <td>160.000000</td>\n",
       "    </tr>\n",
       "  </tbody>\n",
       "</table>\n",
       "</div>"
      ],
      "text/plain": [
       "           Height      Weight\n",
       "count  500.000000  500.000000\n",
       "mean   169.944000  106.000000\n",
       "std     16.375261   32.382607\n",
       "min    140.000000   50.000000\n",
       "25%    156.000000   80.000000\n",
       "50%    170.500000  106.000000\n",
       "75%    184.000000  136.000000\n",
       "max    199.000000  160.000000"
      ]
     },
     "execution_count": 4,
     "metadata": {},
     "output_type": "execute_result"
    }
   ],
   "source": [
    "# describe()\n",
    "# int, float 컬럼들에 대해서 먼저 작용\n",
    "data.describe()\n",
    "# 현재 data 안에는 비만에 대한 사람의 데이터가 많이 있음을 알 수 있음\n"
   ]
  },
  {
   "cell_type": "code",
   "execution_count": 5,
   "id": "c95c40b1",
   "metadata": {},
   "outputs": [
    {
     "data": {
      "text/plain": [
       "Index(['Obesity', 'Normal', 'Overweight', 'Extreme Obesity', 'Weak',\n",
       "       'Extremely Weak'],\n",
       "      dtype='object', name='Label')"
      ]
     },
     "execution_count": 5,
     "metadata": {},
     "output_type": "execute_result"
    }
   ],
   "source": [
    "# 먼저 Label 확인이 필요함\n",
    "# 중복없이 Label 값 확인해보자\n",
    "data.index.unique()\n",
    "\n",
    "# 'Extreme Obesity' 고도비만\n",
    "# 'Obesity' 비만\n",
    "# 'Overweight' 과체중\n",
    "# 'Normal' 정상체중\n",
    "# 'Weak' 저체중\n",
    "# 'Extremely Weak' 극심한 저체중"
   ]
  },
  {
   "cell_type": "code",
   "execution_count": 6,
   "id": "c4f13a0f",
   "metadata": {},
   "outputs": [
    {
     "data": {
      "text/plain": [
       "Extreme Obesity    198\n",
       "Obesity            130\n",
       "Normal              69\n",
       "Overweight          68\n",
       "Weak                22\n",
       "Extremely Weak      13\n",
       "Name: Label, dtype: int64"
      ]
     },
     "execution_count": 6,
     "metadata": {},
     "output_type": "execute_result"
    }
   ],
   "source": [
    "# 각각의 값의 횟수를 셀 수 있는 함수\n",
    "# value_counts()\n",
    "data.index.value_counts()"
   ]
  },
  {
   "cell_type": "code",
   "execution_count": 7,
   "id": "464f3eb4",
   "metadata": {},
   "outputs": [
    {
     "data": {
      "image/png": "[encoded data removed]",
      "text/plain": [
       "<Figure size 640x480 with 1 Axes>"
      ]
     },
     "metadata": {},
     "output_type": "display_data"
    }
   ],
   "source": [
    "# 시각화 해보기 : 비만도 레이블을 표현해보기\n",
    "# x축 키, y축 몸무게를 기준으로 산점도 그려보기\n",
    "# Extreme Obesity에 해당하는 행만 접근하기\n",
    "# loc[행인덱싱]\n",
    "d = data.loc['Extreme Obesity'] #.shape 크기확인\n",
    "plt.scatter(d['Height'], d['Weight'], c = 'blue', label = 'ext obes') # = d.loc[:, 'Height']\n",
    "\n",
    "# Obesity 행만 접근해보기\n",
    "# 산점도 표현해보\n",
    "d2 = data.loc['Obesity'] #.shape 크기확인\n",
    "plt.scatter(d2['Height'], d2['Weight'], c = 'orange', label = 'obes') # = d.loc[:, 'Height']\n",
    "\n",
    "plt.legend()  # 범례표시\n",
    "plt.show()"
   ]
  },
  {
   "cell_type": "code",
   "execution_count": 8,
   "id": "0a4ce95e",
   "metadata": {},
   "outputs": [],
   "source": [
    "# 그래프를 그리는 함수 정의\n",
    "def bmi_draw(label, color):\n",
    "    d = data.loc[label] \n",
    "    plt.scatter(d['Height'], d['Weight'], c = color, label = label)"
   ]
  },
  {
   "cell_type": "code",
   "execution_count": 9,
   "id": "0068b546",
   "metadata": {},
   "outputs": [
    {
     "data": {
      "text/plain": [
       "Index(['Obesity', 'Normal', 'Overweight', 'Extreme Obesity', 'Weak',\n",
       "       'Extremely Weak'],\n",
       "      dtype='object', name='Label')"
      ]
     },
     "execution_count": 9,
     "metadata": {},
     "output_type": "execute_result"
    }
   ],
   "source": [
    "data.index.unique()"
   ]
  },
  {
   "cell_type": "code",
   "execution_count": 10,
   "id": "7c672015",
   "metadata": {},
   "outputs": [
    {
     "data": {
      "image/png": "[encoded data removed]",
      "text/plain": [
       "<Figure size 640x480 with 1 Axes>"
      ]
     },
     "metadata": {},
     "output_type": "display_data"
    }
   ],
   "source": [
    "# Label을 하나씩 연결하면서, 색감도 설정하면서 함수를 6번 호출(사용)\n",
    "bmi_draw('Extreme Obesity', 'blue')\n",
    "bmi_draw('Obesity', 'cyan')\n",
    "bmi_draw('Overweight', 'green')\n",
    "bmi_draw('Normal', 'yellow')\n",
    "bmi_draw('Weak', 'orange')\n",
    "bmi_draw('Extremely Weak', 'red')\n",
    "plt.legend()\n",
    "plt.show()"
   ]
  },
  {
   "cell_type": "markdown",
   "id": "bcb5cb9c",
   "metadata": {},
   "source": [
    "### 모델링\n",
    " - 모델 선택 및 하이퍼 파라미터 조정(knn 모델 선택)\n",
    " - 모델 학습\n",
    " - 모델 예측 및 평가"
   ]
  },
  {
   "cell_type": "code",
   "execution_count": 11,
   "id": "cb0aa969",
   "metadata": {},
   "outputs": [
    {
     "data": {
      "text/plain": [
       "array([[0, 1, 2, 3, 4],\n",
       "       [5, 6, 7, 8, 9]])"
      ]
     },
     "metadata": {},
     "output_type": "display_data"
    },
    {
     "data": {
      "text/plain": [
       "array([5, 6, 7, 8, 9])"
      ]
     },
     "metadata": {},
     "output_type": "display_data"
    },
    {
     "data": {
      "text/plain": [
       "8"
      ]
     },
     "metadata": {},
     "output_type": "display_data"
    },
    {
     "data": {
      "text/plain": [
       "4"
      ]
     },
     "metadata": {},
     "output_type": "display_data"
    },
    {
     "data": {
      "text/plain": [
       "4"
      ]
     },
     "metadata": {},
     "output_type": "display_data"
    }
   ],
   "source": [
    "# 인덱싱 설명\n",
    "# numpy 2차원일 때\n",
    "import numpy as np\n",
    "arr = np.arange(0,10).reshape(2,5)\n",
    "display(arr) # 기존의 자료구조 형태의 모양을 유지하면서 출력\n",
    "# 1번째 행 접근\n",
    "display(arr[1])\n",
    "# 숫자 8이라는 데이터 접근\n",
    "display(arr[1][3])\n",
    "# 숫자 4에 접근\n",
    "display(arr[0][4])\n",
    "# arr[행][열] -> arr[행,열]\n",
    "display(arr[0,4])"
   ]
  },
  {
   "cell_type": "code",
   "execution_count": 12,
   "id": "94b82053",
   "metadata": {},
   "outputs": [],
   "source": [
    "# 판다스에서\n",
    "# loc, iloc 인덱서를 사용해야 가능\n",
    "# df.loc[행,열]\n",
    "# df.iloc[헹.열]\n",
    "\n",
    "# 행 데이터 접근\n",
    "# df.loc[행], df.loc[값:값] ==> df.loc[행:행]\n",
    "# df.iloc[행], df.iloc[값:값] ==> df.iloc[행:행]\n",
    "\n",
    "# 열 데이터 접근\n",
    "# df.loc[:, 열], df.loc[:,열:열]\n",
    "# df.iloc[:, 열인덱스], df.loc[:, 열인덱스:열인덱스]\n",
    "\n",
    "# 행, 열 접근\n",
    "# df.loc[시작행:끝행, 시작열:끝열]\n",
    "# df.iloc[시작행인덱스:끝행인덱스, 시작열인덱스:끝열인덱스]"
   ]
  },
  {
   "cell_type": "code",
   "execution_count": 13,
   "id": "f0a0ca49",
   "metadata": {},
   "outputs": [
    {
     "data": {
      "text/html": [
       "<div>\n",
       "<style scoped>\n",
       "    .dataframe tbody tr th:only-of-type {\n",
       "        vertical-align: middle;\n",
       "    }\n",
       "\n",
       "    .dataframe tbody tr th {\n",
       "        vertical-align: top;\n",
       "    }\n",
       "\n",
       "    .dataframe thead th {\n",
       "        text-align: right;\n",
       "    }\n",
       "</style>\n",
       "<table border=\"1\" class=\"dataframe\">\n",
       "  <thead>\n",
       "    <tr style=\"text-align: right;\">\n",
       "      <th></th>\n",
       "      <th>Label</th>\n",
       "      <th>Gender</th>\n",
       "      <th>Height</th>\n",
       "      <th>Weight</th>\n",
       "    </tr>\n",
       "  </thead>\n",
       "  <tbody>\n",
       "    <tr>\n",
       "      <th>0</th>\n",
       "      <td>Obesity</td>\n",
       "      <td>Male</td>\n",
       "      <td>174</td>\n",
       "      <td>96</td>\n",
       "    </tr>\n",
       "    <tr>\n",
       "      <th>1</th>\n",
       "      <td>Normal</td>\n",
       "      <td>Male</td>\n",
       "      <td>189</td>\n",
       "      <td>87</td>\n",
       "    </tr>\n",
       "    <tr>\n",
       "      <th>2</th>\n",
       "      <td>Obesity</td>\n",
       "      <td>Female</td>\n",
       "      <td>185</td>\n",
       "      <td>110</td>\n",
       "    </tr>\n",
       "    <tr>\n",
       "      <th>3</th>\n",
       "      <td>Overweight</td>\n",
       "      <td>Female</td>\n",
       "      <td>195</td>\n",
       "      <td>104</td>\n",
       "    </tr>\n",
       "    <tr>\n",
       "      <th>4</th>\n",
       "      <td>Overweight</td>\n",
       "      <td>Male</td>\n",
       "      <td>149</td>\n",
       "      <td>61</td>\n",
       "    </tr>\n",
       "    <tr>\n",
       "      <th>...</th>\n",
       "      <td>...</td>\n",
       "      <td>...</td>\n",
       "      <td>...</td>\n",
       "      <td>...</td>\n",
       "    </tr>\n",
       "    <tr>\n",
       "      <th>495</th>\n",
       "      <td>Extreme Obesity</td>\n",
       "      <td>Female</td>\n",
       "      <td>150</td>\n",
       "      <td>153</td>\n",
       "    </tr>\n",
       "    <tr>\n",
       "      <th>496</th>\n",
       "      <td>Obesity</td>\n",
       "      <td>Female</td>\n",
       "      <td>184</td>\n",
       "      <td>121</td>\n",
       "    </tr>\n",
       "    <tr>\n",
       "      <th>497</th>\n",
       "      <td>Extreme Obesity</td>\n",
       "      <td>Female</td>\n",
       "      <td>141</td>\n",
       "      <td>136</td>\n",
       "    </tr>\n",
       "    <tr>\n",
       "      <th>498</th>\n",
       "      <td>Extreme Obesity</td>\n",
       "      <td>Male</td>\n",
       "      <td>150</td>\n",
       "      <td>95</td>\n",
       "    </tr>\n",
       "    <tr>\n",
       "      <th>499</th>\n",
       "      <td>Extreme Obesity</td>\n",
       "      <td>Male</td>\n",
       "      <td>173</td>\n",
       "      <td>131</td>\n",
       "    </tr>\n",
       "  </tbody>\n",
       "</table>\n",
       "<p>500 rows × 4 columns</p>\n",
       "</div>"
      ],
      "text/plain": [
       "               Label  Gender  Height  Weight\n",
       "0            Obesity    Male     174      96\n",
       "1             Normal    Male     189      87\n",
       "2            Obesity  Female     185     110\n",
       "3         Overweight  Female     195     104\n",
       "4         Overweight    Male     149      61\n",
       "..               ...     ...     ...     ...\n",
       "495  Extreme Obesity  Female     150     153\n",
       "496          Obesity  Female     184     121\n",
       "497  Extreme Obesity  Female     141     136\n",
       "498  Extreme Obesity    Male     150      95\n",
       "499  Extreme Obesity    Male     173     131\n",
       "\n",
       "[500 rows x 4 columns]"
      ]
     },
     "execution_count": 13,
     "metadata": {},
     "output_type": "execute_result"
    }
   ],
   "source": [
    "# 인덱스에 있는 label을 컬럼쪽으로 연결하기(이동하기) : df.reset_index()\n",
    "# 컬럼명 확인 df.columns\n",
    "data2 = data.reset_index() # 원본을 유지하고 싶다면 새로운 변수명으로 대입\n",
    "data2\n",
    "# data index가 Label로 된 상태가 그대로 유지됨(원본 유지)"
   ]
  },
  {
   "cell_type": "code",
   "execution_count": 14,
   "id": "9c126e25",
   "metadata": {},
   "outputs": [
    {
     "name": "stdout",
     "output_type": "stream",
     "text": [
      "문제크기 :  (500, 2)\n",
      "답크기 :  (500,)\n"
     ]
    }
   ],
   "source": [
    "# 문제, 답 (컬럼 분리)\n",
    "X = data2.loc[:, 'Height':'Weight'] # 끝까지면 생략 가능\n",
    "y = data2.loc[:, 'Label']\n",
    "\n",
    "# 크기 확인\n",
    "print('문제크기 : ', X.shape)\n",
    "print('답크기 : ', y.shape)"
   ]
  },
  {
   "cell_type": "code",
   "execution_count": 21,
   "id": "e2b540ff",
   "metadata": {},
   "outputs": [
    {
     "name": "stdout",
     "output_type": "stream",
     "text": [
      "(350, 2) (350,)\n",
      "(150, 2) (150,)\n"
     ]
    }
   ],
   "source": [
    "# 행이 총 몇 개? 500\n",
    "# train, test 데이터로 분리하는 비율\n",
    "# 7:3 (7.5:2.5), (8:2)\n",
    "# X_train, y_train, X_test, y_test\n",
    "# 500개 중에서 70%에 속하는 데이터의 개수는? ~ 350개\n",
    "X_train =  X.iloc[:350]# X에서 ~350개 까지 \n",
    "X_test =  X.iloc[350:]# X에서 350번째 부터 ~\n",
    "\n",
    "y_train = y.iloc[:350] # y에서 ~350개 까지\n",
    "y_test = y.iloc[350:] # y에서 350번째 부터 ~\n",
    "\n",
    "print(X_train.shape, y_train.shape)\n",
    "print(X_test.shape, y_test.shape)"
   ]
  },
  {
   "cell_type": "markdown",
   "id": "1df68cf0",
   "metadata": {},
   "source": [
    "### 모델링\n",
    " - 모델 객체 생성\n",
    " - 모델 학습\n",
    " - 모델 평가 및 예측"
   ]
  },
  {
   "cell_type": "code",
   "execution_count": 22,
   "id": "b4af9c08",
   "metadata": {},
   "outputs": [],
   "source": [
    "# 데이터 클래스(카테고리)의 개수는?\n",
    "from sklearn.neighbors import KNeighborsClassifier\n",
    "# 여섯 개 중에 한 개를 판단하는 것 -> 분류\n",
    "from sklearn.metrics import accuracy_score # 정확도 지표"
   ]
  },
  {
   "cell_type": "code",
   "execution_count": 23,
   "id": "78549057",
   "metadata": {},
   "outputs": [],
   "source": [
    "# knn_model 이라는 변수로 모델 객체 생성\n",
    "# 사람이 설정하는 매개변수 => 하이퍼 파라미터\n",
    "# 이웃의 수 n_neighbors : 5개 \n",
    "knn_model = KNeighborsClassifier(n_neighbors=5)"
   ]
  },
  {
   "cell_type": "code",
   "execution_count": 24,
   "id": "f5341c22",
   "metadata": {},
   "outputs": [
    {
     "data": {
      "text/html": [
       "<style>#sk-container-id-1 {color: black;background-color: white;}#sk-container-id-1 pre{padding: 0;}#sk-container-id-1 div.sk-toggleable {background-color: white;}#sk-container-id-1 label.sk-toggleable__label {cursor: pointer;display: block;width: 100%;margin-bottom: 0;padding: 0.3em;box-sizing: border-box;text-align: center;}#sk-container-id-1 label.sk-toggleable__label-arrow:before {content: \"▸\";float: left;margin-right: 0.25em;color: #696969;}#sk-container-id-1 label.sk-toggleable__label-arrow:hover:before {color: black;}#sk-container-id-1 div.sk-estimator:hover label.sk-toggleable__label-arrow:before {color: black;}#sk-container-id-1 div.sk-toggleable__content {max-height: 0;max-width: 0;overflow: hidden;text-align: left;background-color: #f0f8ff;}#sk-container-id-1 div.sk-toggleable__content pre {margin: 0.2em;color: black;border-radius: 0.25em;background-color: #f0f8ff;}#sk-container-id-1 input.sk-toggleable__control:checked~div.sk-toggleable__content {max-height: 200px;max-width: 100%;overflow: auto;}#sk-container-id-1 input.sk-toggleable__control:checked~label.sk-toggleable__label-arrow:before {content: \"▾\";}#sk-container-id-1 div.sk-estimator input.sk-toggleable__control:checked~label.sk-toggleable__label {background-color: #d4ebff;}#sk-container-id-1 div.sk-label input.sk-toggleable__control:checked~label.sk-toggleable__label {background-color: #d4ebff;}#sk-container-id-1 input.sk-hidden--visually {border: 0;clip: rect(1px 1px 1px 1px);clip: rect(1px, 1px, 1px, 1px);height: 1px;margin: -1px;overflow: hidden;padding: 0;position: absolute;width: 1px;}#sk-container-id-1 div.sk-estimator {font-family: monospace;background-color: #f0f8ff;border: 1px dotted black;border-radius: 0.25em;box-sizing: border-box;margin-bottom: 0.5em;}#sk-container-id-1 div.sk-estimator:hover {background-color: #d4ebff;}#sk-container-id-1 div.sk-parallel-item::after {content: \"\";width: 100%;border-bottom: 1px solid gray;flex-grow: 1;}#sk-container-id-1 div.sk-label:hover label.sk-toggleable__label {background-color: #d4ebff;}#sk-container-id-1 div.sk-serial::before {content: \"\";position: absolute;border-left: 1px solid gray;box-sizing: border-box;top: 0;bottom: 0;left: 50%;z-index: 0;}#sk-container-id-1 div.sk-serial {display: flex;flex-direction: column;align-items: center;background-color: white;padding-right: 0.2em;padding-left: 0.2em;position: relative;}#sk-container-id-1 div.sk-item {position: relative;z-index: 1;}#sk-container-id-1 div.sk-parallel {display: flex;align-items: stretch;justify-content: center;background-color: white;position: relative;}#sk-container-id-1 div.sk-item::before, #sk-container-id-1 div.sk-parallel-item::before {content: \"\";position: absolute;border-left: 1px solid gray;box-sizing: border-box;top: 0;bottom: 0;left: 50%;z-index: -1;}#sk-container-id-1 div.sk-parallel-item {display: flex;flex-direction: column;z-index: 1;position: relative;background-color: white;}#sk-container-id-1 div.sk-parallel-item:first-child::after {align-self: flex-end;width: 50%;}#sk-container-id-1 div.sk-parallel-item:last-child::after {align-self: flex-start;width: 50%;}#sk-container-id-1 div.sk-parallel-item:only-child::after {width: 0;}#sk-container-id-1 div.sk-dashed-wrapped {border: 1px dashed gray;margin: 0 0.4em 0.5em 0.4em;box-sizing: border-box;padding-bottom: 0.4em;background-color: white;}#sk-container-id-1 div.sk-label label {font-family: monospace;font-weight: bold;display: inline-block;line-height: 1.2em;}#sk-container-id-1 div.sk-label-container {text-align: center;}#sk-container-id-1 div.sk-container {/* jupyter's `normalize.less` sets `[hidden] { display: none; }` but bootstrap.min.css set `[hidden] { display: none !important; }` so we also need the `!important` here to be able to override the default hidden behavior on the sphinx rendered scikit-learn.org. See: https://github.com/scikit-learn/scikit-learn/issues/21755 */display: inline-block !important;position: relative;}#sk-container-id-1 div.sk-text-repr-fallback {display: none;}</style><div id=\"sk-container-id-1\" class=\"sk-top-container\"><div class=\"sk-text-repr-fallback\"><pre>KNeighborsClassifier()</pre><b>In a Jupyter environment, please rerun this cell to show the HTML representation or trust the notebook. <br />On GitHub, the HTML representation is unable to render, please try loading this page with nbviewer.org.</b></div><div class=\"sk-container\" hidden><div class=\"sk-item\"><div class=\"sk-estimator sk-toggleable\"><input class=\"sk-toggleable__control sk-hidden--visually\" id=\"sk-estimator-id-1\" type=\"checkbox\" checked><label for=\"sk-estimator-id-1\" class=\"sk-toggleable__label sk-toggleable__label-arrow\">KNeighborsClassifier</label><div class=\"sk-toggleable__content\"><pre>KNeighborsClassifier()</pre></div></div></div></div></div>"
      ],
      "text/plain": [
       "KNeighborsClassifier()"
      ]
     },
     "execution_count": 24,
     "metadata": {},
     "output_type": "execute_result"
    }
   ],
   "source": [
    "# 모델 학습\n",
    "# fit(훈련문제, 훈련답)\n",
    "knn_model.fit(X_train, y_train)"
   ]
  },
  {
   "cell_type": "code",
   "execution_count": 27,
   "id": "2ea4288c",
   "metadata": {},
   "outputs": [
    {
     "data": {
      "text/plain": [
       "150"
      ]
     },
     "execution_count": 27,
     "metadata": {},
     "output_type": "execute_result"
    }
   ],
   "source": [
    "# 예측 시켜보기\n",
    "# predict(테스트 문제)\n",
    "pre = knn_model.predict(X_test)\n",
    "# pre.size #"
   ]
  },
  {
   "cell_type": "code",
   "execution_count": 28,
   "id": "1c7b891a",
   "metadata": {},
   "outputs": [
    {
     "data": {
      "text/plain": [
       "0.9066666666666666"
      ]
     },
     "execution_count": 28,
     "metadata": {},
     "output_type": "execute_result"
    }
   ],
   "source": [
    "# test 평가\n",
    "# 정확도 지표\n",
    "accuracy_score(y_test, pre) # *100 --> 91%"
   ]
  },
  {
   "cell_type": "code",
   "execution_count": null,
   "id": "a455e9a4",
   "metadata": {},
   "outputs": [],
   "source": []
  },
  {
   "cell_type": "code",
   "execution_count": null,
   "id": "748e8086",
   "metadata": {},
   "outputs": [],
   "source": []
  },
  {
   "cell_type": "code",
   "execution_count": null,
   "id": "a7429371",
   "metadata": {},
   "outputs": [],
   "source": []
  },
  {
   "cell_type": "code",
   "execution_count": null,
   "id": "d7606d4b",
   "metadata": {},
   "outputs": [],
   "source": []
  },
  {
   "cell_type": "code",
   "execution_count": null,
   "id": "3d50f9f2",
   "metadata": {},
   "outputs": [],
   "source": []
  },
  {
   "cell_type": "code",
   "execution_count": null,
   "id": "80f749e8",
   "metadata": {},
   "outputs": [],
   "source": []
  }
 ],
 "metadata": {
  "kernelspec": {
   "display_name": "Python 3 (ipykernel)",
   "language": "python",
   "name": "python3"
  },
  "language_info": {
   "codemirror_mode": {
    "name": "ipython",
    "version": 3
   },
   "file_extension": ".py",
   "mimetype": "text/x-python",
   "name": "python",
   "nbconvert_exporter": "python",
   "pygments_lexer": "ipython3",
   "version": "3.10.9"
  }
 },
 "nbformat": 4,
 "nbformat_minor": 5
}
